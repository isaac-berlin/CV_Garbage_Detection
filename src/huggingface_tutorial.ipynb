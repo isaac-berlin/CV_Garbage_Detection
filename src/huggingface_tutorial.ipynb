{
 "cells": [
  {
   "cell_type": "markdown",
   "metadata": {},
   "source": [
    "https://huggingface.co/learn/computer-vision-course/en/unit3/vision-transformers/vision-transformer-for-objection-detection"
   ]
  },
  {
   "cell_type": "markdown",
   "metadata": {},
   "source": [
    "Transform data into following structure\n",
    "\n",
    "```python\n",
    "DatasetDict({\n",
    "    train: Dataset({\n",
    "        features: ['image', 'image_id', 'width', 'height', 'objects'],\n",
    "        num_rows: 5297\n",
    "    })\n",
    "    test: Dataset({\n",
    "        features: ['image', 'image_id', 'width', 'height', 'objects'],\n",
    "        num_rows: 1766\n",
    "    })\n",
    "})\n",
    "```\n"
   ]
  },
  {
   "cell_type": "code",
   "execution_count": 1,
   "metadata": {},
   "outputs": [],
   "source": [
    "from datasets import Dataset, DatasetDict\n",
    "from PIL import Image\n",
    "import json\n",
    "import os\n",
    "import supervision as sv\n",
    "from transformers import AutoImageProcessor"
   ]
  },
  {
   "cell_type": "code",
   "execution_count": 7,
   "metadata": {},
   "outputs": [],
   "source": [
    "def sv_to_custom_format(sv_dataset, class_mapping=None):\n",
    "    formatted_data = []\n",
    "\n",
    "    image_id = 0\n",
    "    for path, image, detections in sv_dataset:\n",
    "        # Load image\n",
    "        image = path\n",
    "        width, height = (416, 416)\n",
    "        \n",
    "        # Process detections\n",
    "        object_ids = list(range(1, len(detections) + 1))\n",
    "        bboxes = []\n",
    "        areas = []\n",
    "        categories = []\n",
    "\n",
    "        for detection in detections:\n",
    "            x_min, y_min, x_max, y_max = detection[0]  # Supervision bounding box\n",
    "            bbox = [x_min, y_min, x_max - x_min, y_max - y_min]  # Convert to [x_min, y_min, width, height]\n",
    "            area = (x_max - x_min) * (y_max - y_min)  # Compute area\n",
    "            category = class_mapping[detection[3]] if class_mapping else str(detection[3])\n",
    "\n",
    "            bboxes.append(bbox)\n",
    "            areas.append(area)\n",
    "            categories.append(category)\n",
    "\n",
    "        # Add to formatted dataset\n",
    "        formatted_data.append({\n",
    "            'image': image,\n",
    "            'image_id': image_id,\n",
    "            'width': width,\n",
    "            'height': height,\n",
    "            'objects': {\n",
    "                'id': object_ids,\n",
    "                'area': areas,\n",
    "                'bbox': bboxes,\n",
    "                'category': categories\n",
    "            }\n",
    "        })\n",
    "        \n",
    "        image_id += 1\n",
    "\n",
    "    return formatted_data"
   ]
  },
  {
   "cell_type": "code",
   "execution_count": 8,
   "metadata": {},
   "outputs": [],
   "source": [
    "def get_class_mappings_from_coco(annotation_path):\n",
    "    \"\"\"\n",
    "    Extracts class mappings from a COCO annotations file.\n",
    "    \n",
    "    Args:\n",
    "        annotation_path (str): Path to the COCO annotations JSON file.\n",
    "        \n",
    "    Returns:\n",
    "        dict: Mapping from class IDs to class names.\n",
    "    \"\"\"\n",
    "    with open(annotation_path, \"r\") as f:\n",
    "        coco_data = json.load(f)\n",
    "    \n",
    "    # Extract categories\n",
    "    categories = coco_data[\"categories\"]\n",
    "    class_mapping = {category[\"id\"]: category[\"name\"] for category in categories}\n",
    "    return class_mapping"
   ]
  },
  {
   "cell_type": "code",
   "execution_count": 9,
   "metadata": {},
   "outputs": [],
   "source": [
    "ds_path = r\"C:\\Users\\isaac\\dev\\CV_Garbage_Detection\\Data\"\n",
    "\n",
    "ds_train = sv.DetectionDataset.from_coco(\n",
    "    images_directory_path=os.path.join(ds_path, \"train\"),\n",
    "    annotations_path=os.path.join(ds_path, \"train\", \"_annotations.coco.json\"),\n",
    ")\n",
    "\n",
    "ds_test = sv.DetectionDataset.from_coco(\n",
    "    images_directory_path=os.path.join(ds_path, \"test\"),\n",
    "    annotations_path=os.path.join(ds_path, \"test\", \"_annotations.coco.json\"),\n",
    ")\n",
    "\n",
    "ds_valid = sv.DetectionDataset.from_coco(\n",
    "    images_directory_path=os.path.join(ds_path, \"valid\"),\n",
    "    annotations_path=os.path.join(ds_path, \"valid\", \"_annotations.coco.json\"),\n",
    ")"
   ]
  },
  {
   "cell_type": "code",
   "execution_count": null,
   "metadata": {},
   "outputs": [],
   "source": [
    "class_mappings = get_class_mappings_from_coco(os.path.join(ds_path, \"train\", \"_annotations.coco.json\"))\n",
    "\n",
    "formatted_train = sv_to_custom_format(ds_train, class_mappings)\n",
    "formatted_test = sv_to_custom_format(ds_test, class_mappings)\n",
    "formatted_valid = sv_to_custom_format(ds_valid, class_mappings)"
   ]
  }
 ],
 "metadata": {
  "kernelspec": {
   "display_name": "CSCI5561",
   "language": "python",
   "name": "python3"
  },
  "language_info": {
   "codemirror_mode": {
    "name": "ipython",
    "version": 3
   },
   "file_extension": ".py",
   "mimetype": "text/x-python",
   "name": "python",
   "nbconvert_exporter": "python",
   "pygments_lexer": "ipython3",
   "version": "3.12.4"
  }
 },
 "nbformat": 4,
 "nbformat_minor": 2
}
