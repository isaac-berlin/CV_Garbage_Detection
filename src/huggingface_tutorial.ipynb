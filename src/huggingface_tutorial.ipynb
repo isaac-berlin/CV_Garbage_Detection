{
 "cells": [
  {
   "cell_type": "markdown",
   "metadata": {},
   "source": [
    "https://huggingface.co/learn/computer-vision-course/en/unit3/vision-transformers/vision-transformer-for-objection-detection"
   ]
  },
  {
   "cell_type": "markdown",
   "metadata": {},
   "source": [
    "Transform data into following structure\n",
    "\n",
    "```python\n",
    "DatasetDict({\n",
    "    train: Dataset({\n",
    "        features: ['image', 'image_id', 'width', 'height', 'objects'],\n",
    "        num_rows: 5297\n",
    "    })\n",
    "    test: Dataset({\n",
    "        features: ['image', 'image_id', 'width', 'height', 'objects'],\n",
    "        num_rows: 1766\n",
    "    })\n",
    "})\n",
    "```\n"
   ]
  },
  {
   "cell_type": "code",
   "execution_count": 2,
   "metadata": {},
   "outputs": [],
   "source": [
    "from datasets import Dataset, DatasetDict\n",
    "from PIL import Image\n",
    "import json\n",
    "import os"
   ]
  }
 ],
 "metadata": {
  "kernelspec": {
   "display_name": "CSCI5561",
   "language": "python",
   "name": "python3"
  },
  "language_info": {
   "codemirror_mode": {
    "name": "ipython",
    "version": 3
   },
   "file_extension": ".py",
   "mimetype": "text/x-python",
   "name": "python",
   "nbconvert_exporter": "python",
   "pygments_lexer": "ipython3",
   "version": "3.12.4"
  }
 },
 "nbformat": 4,
 "nbformat_minor": 2
}
